{
 "cells": [
  {
   "cell_type": "code",
   "execution_count": 1,
   "metadata": {},
   "outputs": [],
   "source": [
    "import os\n",
    "import pandas as pd"
   ]
  },
  {
   "cell_type": "markdown",
   "metadata": {},
   "source": [
    "#### Data ingestion"
   ]
  },
  {
   "cell_type": "code",
   "execution_count": 2,
   "metadata": {},
   "outputs": [
    {
     "data": {
      "text/html": [
       "<div>\n",
       "<style scoped>\n",
       "    .dataframe tbody tr th:only-of-type {\n",
       "        vertical-align: middle;\n",
       "    }\n",
       "\n",
       "    .dataframe tbody tr th {\n",
       "        vertical-align: top;\n",
       "    }\n",
       "\n",
       "    .dataframe thead th {\n",
       "        text-align: right;\n",
       "    }\n",
       "</style>\n",
       "<table border=\"1\" class=\"dataframe\">\n",
       "  <thead>\n",
       "    <tr style=\"text-align: right;\">\n",
       "      <th></th>\n",
       "      <th>id</th>\n",
       "      <th>created_on</th>\n",
       "      <th>tag</th>\n",
       "      <th>text</th>\n",
       "    </tr>\n",
       "  </thead>\n",
       "  <tbody>\n",
       "    <tr>\n",
       "      <th>0</th>\n",
       "      <td>6</td>\n",
       "      <td>2020-02-20 06:43:18</td>\n",
       "      <td>computer-vision</td>\n",
       "      <td>Comparison between YOLO and RCNN on real world...</td>\n",
       "    </tr>\n",
       "    <tr>\n",
       "      <th>1</th>\n",
       "      <td>7</td>\n",
       "      <td>2020-02-20 06:47:21</td>\n",
       "      <td>computer-vision</td>\n",
       "      <td>Show, Infer &amp; Tell: Contextual Inference for C...</td>\n",
       "    </tr>\n",
       "    <tr>\n",
       "      <th>2</th>\n",
       "      <td>9</td>\n",
       "      <td>2020-02-24 16:24:45</td>\n",
       "      <td>graph-learning</td>\n",
       "      <td>Awesome Graph Classification A collection of i...</td>\n",
       "    </tr>\n",
       "    <tr>\n",
       "      <th>3</th>\n",
       "      <td>15</td>\n",
       "      <td>2020-02-28 23:55:26</td>\n",
       "      <td>reinforcement-learning</td>\n",
       "      <td>Awesome Monte Carlo Tree Search A curated list...</td>\n",
       "    </tr>\n",
       "    <tr>\n",
       "      <th>4</th>\n",
       "      <td>19</td>\n",
       "      <td>2020-03-03 13:54:31</td>\n",
       "      <td>graph-learning</td>\n",
       "      <td>Diffusion to Vector Reference implementation o...</td>\n",
       "    </tr>\n",
       "  </tbody>\n",
       "</table>\n",
       "</div>"
      ],
      "text/plain": [
       "   id           created_on                     tag  \\\n",
       "0   6  2020-02-20 06:43:18         computer-vision   \n",
       "1   7  2020-02-20 06:47:21         computer-vision   \n",
       "2   9  2020-02-24 16:24:45          graph-learning   \n",
       "3  15  2020-02-28 23:55:26  reinforcement-learning   \n",
       "4  19  2020-03-03 13:54:31          graph-learning   \n",
       "\n",
       "                                                text  \n",
       "0  Comparison between YOLO and RCNN on real world...  \n",
       "1  Show, Infer & Tell: Contextual Inference for C...  \n",
       "2  Awesome Graph Classification A collection of i...  \n",
       "3  Awesome Monte Carlo Tree Search A curated list...  \n",
       "4  Diffusion to Vector Reference implementation o...  "
      ]
     },
     "execution_count": 2,
     "metadata": {},
     "output_type": "execute_result"
    }
   ],
   "source": [
    "#load labeled projects\n",
    "projects = pd.read_csv(\"https://raw.githubusercontent.com/GokuMohandas/Made-With-ML/main/datasets/projects.csv\")\n",
    "tags = pd.read_csv(\"https://raw.githubusercontent.com/GokuMohandas/Made-With-ML/main/datasets/tags.csv\")\n",
    "df = pd.merge(projects, tags, on=\"id\")\n",
    "df[\"text\"] = df.title + \" \" + df.description\n",
    "df.drop([\"title\", \"description\"], axis=1, inplace=True)\n",
    "df.head(5)"
   ]
  },
  {
   "cell_type": "code",
   "execution_count": 3,
   "metadata": {},
   "outputs": [],
   "source": [
    "#format timestamp\n",
    "df.created_on = pd.to_datetime(df.created_on)"
   ]
  },
  {
   "cell_type": "code",
   "execution_count": 4,
   "metadata": {},
   "outputs": [],
   "source": [
    "#convert to parquet\n",
    "from pathlib import Path\n",
    "\n",
    "\n",
    "DATA_DIR = Path(os.getcwd(), \"data\")\n",
    "df.to_parquet(\n",
    "    Path(DATA_DIR, \"features.parquet\"),\n",
    "    compression=None,\n",
    "    allow_truncated_timestamps=True,\n",
    ")"
   ]
  },
  {
   "cell_type": "markdown",
   "metadata": {},
   "source": [
    "#### Feature definitions"
   ]
  },
  {
   "cell_type": "code",
   "execution_count": 5,
   "metadata": {},
   "outputs": [
    {
     "ename": "ImportError",
     "evalue": "cannot import name 'FileSource' from 'feast.data_source' (d:\\MLOps-Project\\env-mlops-project\\lib\\site-packages\\feast\\data_source.py)",
     "output_type": "error",
     "traceback": [
      "\u001b[1;31m---------------------------------------------------------------------------\u001b[0m",
      "\u001b[1;31mImportError\u001b[0m                               Traceback (most recent call last)",
      "\u001b[1;32md:\\MLOps-Project\\features\\features.ipynb Cell 7\u001b[0m in \u001b[0;36m<cell line: 4>\u001b[1;34m()\u001b[0m\n\u001b[0;32m      <a href='vscode-notebook-cell:/d%3A/MLOps-Project/features/features.ipynb#W4sZmlsZQ%3D%3D?line=1'>2</a>\u001b[0m \u001b[39mfrom\u001b[39;00m \u001b[39mpathlib\u001b[39;00m \u001b[39mimport\u001b[39;00m Path\n\u001b[0;32m      <a href='vscode-notebook-cell:/d%3A/MLOps-Project/features/features.ipynb#W4sZmlsZQ%3D%3D?line=2'>3</a>\u001b[0m \u001b[39mfrom\u001b[39;00m \u001b[39mfeast\u001b[39;00m \u001b[39mimport\u001b[39;00m Entity, Feature, FeatureView, ValueType\n\u001b[1;32m----> <a href='vscode-notebook-cell:/d%3A/MLOps-Project/features/features.ipynb#W4sZmlsZQ%3D%3D?line=3'>4</a>\u001b[0m \u001b[39mfrom\u001b[39;00m \u001b[39mfeast\u001b[39;00m\u001b[39m.\u001b[39;00m\u001b[39mdata_source\u001b[39;00m \u001b[39mimport\u001b[39;00m FileSource\n\u001b[0;32m      <a href='vscode-notebook-cell:/d%3A/MLOps-Project/features/features.ipynb#W4sZmlsZQ%3D%3D?line=4'>5</a>\u001b[0m \u001b[39mfrom\u001b[39;00m \u001b[39mgoogle\u001b[39;00m\u001b[39m.\u001b[39;00m\u001b[39mprotobuf\u001b[39;00m\u001b[39m.\u001b[39;00m\u001b[39mduration_pb2\u001b[39;00m \u001b[39mimport\u001b[39;00m Duration\n",
      "\u001b[1;31mImportError\u001b[0m: cannot import name 'FileSource' from 'feast.data_source' (d:\\MLOps-Project\\env-mlops-project\\lib\\site-packages\\feast\\data_source.py)"
     ]
    }
   ],
   "source": [
    "from datetime import datetime\n",
    "from pathlib import Path\n",
    "from feast import Entity, Feature, FeatureView, ValueType\n",
    "from feast.data_source import FileSource\n",
    "from google.protobuf.duration_pb2 import Duration"
   ]
  }
 ],
 "metadata": {
  "kernelspec": {
   "display_name": "Python 3.9.12 ('env-mlops-project': venv)",
   "language": "python",
   "name": "python3"
  },
  "language_info": {
   "codemirror_mode": {
    "name": "ipython",
    "version": 3
   },
   "file_extension": ".py",
   "mimetype": "text/x-python",
   "name": "python",
   "nbconvert_exporter": "python",
   "pygments_lexer": "ipython3",
   "version": "3.9.12"
  },
  "orig_nbformat": 4,
  "vscode": {
   "interpreter": {
    "hash": "592734795e8ffe1316e2468180424977d5e2d9e59b1018d07673f677596c8536"
   }
  }
 },
 "nbformat": 4,
 "nbformat_minor": 2
}
